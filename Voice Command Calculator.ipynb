{
 "cells": [
  {
   "cell_type": "code",
   "execution_count": 21,
   "metadata": {},
   "outputs": [
    {
     "name": "stdout",
     "output_type": "stream",
     "text": [
      "Say what you want to calculate, example - 3 plus 3, 6 minus 4, 4 multiplied by 5, 9 divided 3\n",
      "903\n"
     ]
    },
    {
     "ename": "TypeError",
     "evalue": "eval_binary_expr() missing 2 required positional arguments: 'oper' and 'op2'",
     "output_type": "error",
     "traceback": [
      "\u001b[1;31m---------------------------------------------------------------------------\u001b[0m",
      "\u001b[1;31mTypeError\u001b[0m                                 Traceback (most recent call last)",
      "\u001b[1;32m<ipython-input-21-6d0dcd45b0e5>\u001b[0m in \u001b[0;36m<module>\u001b[1;34m\u001b[0m\n\u001b[0;32m     23\u001b[0m     \u001b[1;32mreturn\u001b[0m \u001b[0mget_operator_fn\u001b[0m\u001b[1;33m(\u001b[0m\u001b[0moper\u001b[0m\u001b[1;33m)\u001b[0m\u001b[1;33m(\u001b[0m\u001b[0mop1\u001b[0m\u001b[1;33m,\u001b[0m \u001b[0mop2\u001b[0m\u001b[1;33m)\u001b[0m\u001b[1;33m\u001b[0m\u001b[1;33m\u001b[0m\u001b[0m\n\u001b[0;32m     24\u001b[0m \u001b[1;33m\u001b[0m\u001b[0m\n\u001b[1;32m---> 25\u001b[1;33m \u001b[0mprint\u001b[0m\u001b[1;33m(\u001b[0m\u001b[0meval_binary_expr\u001b[0m\u001b[1;33m(\u001b[0m\u001b[1;33m*\u001b[0m\u001b[1;33m(\u001b[0m\u001b[0mmy_string\u001b[0m\u001b[1;33m.\u001b[0m\u001b[0msplit\u001b[0m\u001b[1;33m(\u001b[0m\u001b[1;33m)\u001b[0m\u001b[1;33m)\u001b[0m\u001b[1;33m)\u001b[0m\u001b[1;33m)\u001b[0m\u001b[1;33m\u001b[0m\u001b[1;33m\u001b[0m\u001b[0m\n\u001b[0m",
      "\u001b[1;31mTypeError\u001b[0m: eval_binary_expr() missing 2 required positional arguments: 'oper' and 'op2'"
     ]
    }
   ],
   "source": [
    "import operator\n",
    "import speech_recognition as sr\n",
    "r = sr.Recognizer()\n",
    "with sr.Microphone() as source: \n",
    "    print(\"Say what you want to calculate, example - 3 plus 3, 6 minus 4, 4 multiplied by 5, 9 divided 3\")\n",
    "    r.adjust_for_ambient_noise(source)\n",
    "    audio = r.listen(source)\n",
    "my_string=r.recognize_google(audio)\n",
    "print(my_string)\n",
    "def get_operator_fn(op):\n",
    "    return {\n",
    "        '+' : operator.add,\n",
    "        '-' : operator.sub,\n",
    "        'x' : operator.mul,\n",
    "        'divided' :operator.__truediv__,\n",
    "        'Mod' : operator.mod,\n",
    "        'mod' : operator.mod,\n",
    "        '^' : operator.xor,\n",
    "        }[op]\n",
    "\n",
    "def eval_binary_expr(op1, oper, op2):\n",
    "    op1,op2 = int(op1), int(op2)\n",
    "    return get_operator_fn(oper)(op1, op2)\n",
    "\n",
    "print(eval_binary_expr(*(my_string.split())))"
   ]
  }
 ],
 "metadata": {
  "kernelspec": {
   "display_name": "Python 3",
   "language": "python",
   "name": "python3"
  },
  "language_info": {
   "codemirror_mode": {
    "name": "ipython",
    "version": 3
   },
   "file_extension": ".py",
   "mimetype": "text/x-python",
   "name": "python",
   "nbconvert_exporter": "python",
   "pygments_lexer": "ipython3",
   "version": "3.6.10"
  }
 },
 "nbformat": 4,
 "nbformat_minor": 4
}
